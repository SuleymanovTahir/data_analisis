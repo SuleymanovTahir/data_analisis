{
 "cells": [
  {
   "cell_type": "code",
   "execution_count": null,
   "metadata": {
    "colab": {},
    "colab_type": "code",
    "id": "-E1FoPOmmwnv"
   },
   "outputs": [],
   "source": [
    "import csv\n",
    "import numpy as np\n",
    "import pandas as pd\n",
    "import matplotlib.pyplot as plt\n",
    "import seaborn as sns"
   ]
  },
  {
   "cell_type": "markdown",
   "metadata": {
    "colab_type": "text",
    "id": "WIRkUswSvsyx"
   },
   "source": [
    "# <font color=\"blue\">Part 1</font>\n"
   ]
  },
  {
   "cell_type": "markdown",
   "metadata": {
    "colab_type": "text",
    "id": "YdApsFw3-_uE"
   },
   "source": [
    "## Basic Statistics"
   ]
  },
  {
   "cell_type": "code",
   "execution_count": null,
   "metadata": {
    "colab": {},
    "colab_type": "code",
    "id": "fa3ufKz1uI6R"
   },
   "outputs": [],
   "source": [
    "# Сохраните набор данных Iris во фрейм данных из источника url\n",
    "url = \"https://raw.githubusercontent.com/jbrownlee/Datasets/master/iris.csv\"\n",
    "names = ['sepal.length', 'sepal.width', 'petal.length', 'petal.width', 'variety']\n",
    "df_iris = pd.read_csv(url, names=names)\n",
    "\n",
    "#вывод первые 10 рядов \n",
    "print(df_iris.head(10))"
   ]
  },
  {
   "cell_type": "code",
   "execution_count": null,
   "metadata": {
    "colab": {},
    "colab_type": "code",
    "id": "fMjL6YA8g4QC"
   },
   "outputs": [],
   "source": [
    "#Вычисление среднего арифметического значения каждого признака в наборе данных, используя соответствующую формулу\n",
    "mean = df_iris.iloc[:, :-1].sum()/df_iris.shape[0]\n",
    "print(mean)"
   ]
  },
  {
   "cell_type": "code",
   "execution_count": null,
   "metadata": {
    "colab": {},
    "colab_type": "code",
    "id": "TCBNpei3iTZY"
   },
   "outputs": [],
   "source": [
    "#  Мы можем проверить предыдущий ответ, вызвав встроенную функцию\n",
    "df_iris.mean()"
   ]
  },
  {
   "cell_type": "code",
   "execution_count": null,
   "metadata": {
    "colab": {},
    "colab_type": "code",
    "id": "d_pB6d6Wj2SY"
   },
   "outputs": [],
   "source": [
    "# Мы также можем вычислить дисперсию (variance) и std с помощью встроенных функций\n",
    "print(df_iris.var())\n",
    "print(df_iris.std())"
   ]
  },
  {
   "cell_type": "code",
   "execution_count": null,
   "metadata": {
    "colab": {},
    "colab_type": "code",
    "id": "v3kiQ1bLk5J4"
   },
   "outputs": [],
   "source": [
    "# Здесь мы можем вычислить 0,25-й, 0,5-й, 0,75-й квартили с помощью встроенной функции\n",
    "print(df_iris.quantile(0.25))\n",
    "print(df_iris.quantile(0.5))\n",
    "print(df_iris.quantile(0.75))\n",
    "# также попробуйте вывести (df_iris.quantile([.25, .5, .75]))"
   ]
  },
  {
   "cell_type": "code",
   "execution_count": null,
   "metadata": {
    "colab": {},
    "colab_type": "code",
    "id": "JyScZl32p95w"
   },
   "outputs": [],
   "source": [
    "# Мы можем собрать все метрики вместе \n",
    "df_iris.describe()"
   ]
  },
  {
   "cell_type": "code",
   "execution_count": null,
   "metadata": {},
   "outputs": [],
   "source": [
    "import warnings\n",
    "warnings.filterwarnings('ignore')"
   ]
  },
  {
   "cell_type": "markdown",
   "metadata": {
    "colab_type": "text",
    "id": "TafWTzJikLmX"
   },
   "source": [
    "### <font color=\"green\">Your Turn: Iris</font>"
   ]
  },
  {
   "cell_type": "code",
   "execution_count": null,
   "metadata": {
    "colab": {},
    "colab_type": "code",
    "id": "eWRPfBPqioER"
   },
   "outputs": [],
   "source": [
    "# Compute variance of each feature in the dateset using the corresponding formula (see the slides for reference)\n",
    "#Вычислите дисперсию каждого признака в наборе дат, используя соответствующую формулу (см. слайды для справки)\n",
    "var = df_iris.var()\n",
    "print(var)"
   ]
  },
  {
   "cell_type": "code",
   "execution_count": null,
   "metadata": {
    "colab": {},
    "colab_type": "code",
    "id": "BJ0JlI3ekZFo"
   },
   "outputs": [],
   "source": [
    "# Compute standard deviation of each feature in the dateset using the corresponding formula (see the slides for reference)\n",
    "# Вычислите стандартное отклонение каждого признака в наборе дат, используя соответствующую формулу (см. слайды для справки)\n",
    "std = df_iris.std()\n",
    "print(std)"
   ]
  },
  {
   "cell_type": "code",
   "execution_count": null,
   "metadata": {
    "colab": {},
    "colab_type": "code",
    "id": "flELEiY6nLAx"
   },
   "outputs": [],
   "source": [
    "# Compute 0.25th, 0.5th, 0.75th quantiles for 'sepal.length' using the corresponding formula (see the slides for reference)\n",
    "# Рассчитайте стандартное отклонение каждого признака в наборе дат, используя соответствующую формулу (см. слайды для справки)\n",
    "quant25=np.quantile(df_iris['sepal.length'], 0.25)\n",
    "quant50=np.quantile(df_iris['sepal.length'], 0.5)\n",
    "quant75=np.quantile(df_iris['sepal.length'], 0.75)\n",
    "print('quantile 0.25:', quant25)\n",
    "print('quantile 0.50:',quant50)\n",
    "print('quantile 0.75:',quant75)\n"
   ]
  },
  {
   "cell_type": "markdown",
   "metadata": {
    "colab_type": "text",
    "id": "RJI7YnnNtlc0"
   },
   "source": [
    "## Visualization\n",
    "Matplotlib is a multiplatform data visualization library built on NumPy arrays, and designed to work with the broader SciPy stack. There are new packages available  that build on its powerful internals to drive Matplotlib via cleaner, more modern APIs. Pandas itself can be used as wrappers around Matplotlib’s API.\n",
    "Matplotlib - это мультиплатформенная библиотека визуализации данных, построенная на массивах NumPy и предназначенная для работы с более широким стеком SciPy. Существуют новые пакеты, которые основаны на ее мощных внутренних компонентах и позволяют использовать Matplotlib через более чистые и современные API. Сам Pandas можно использовать как обертку вокруг API Matplotlib."
   ]
  },
  {
   "cell_type": "markdown",
   "metadata": {
    "colab_type": "text",
    "id": "CW9zluH9sEBf"
   },
   "source": [
    "### Line Plot\n",
    "You can find the documentation details here:\n",
    "Подробности документации можно найти здесь:\n",
    "https://matplotlib.org/3.1.1/api/_as_gen/matplotlib.pyplot.plot.html\n",
    "https://pandas.pydata.org/pandas-docs/version/0.23.4/generated/pandas.DataFrame.plot.html"
   ]
  },
  {
   "cell_type": "code",
   "execution_count": null,
   "metadata": {
    "colab": {},
    "colab_type": "code",
    "id": "iHdHJ-MWsEBf"
   },
   "outputs": [],
   "source": [
    "# Here is an example of line plots with Matplotlib\n",
    "# Вот пример построения линейных графиков с помощью Matplotlib\n",
    "x = np.linspace(0, 10, 100)\n",
    "\n",
    "# create a plot figure with fixed size\n",
    "# создать фигуру с фиксированным размером\n",
    "fig = plt.figure(figsize = (10, 5))\n",
    "\n",
    "plt.plot(x, np.sin(x), linestyle = '--', label = 'f(x)=np.sin(x)')\n",
    "plt.plot(x, np.cos(x), linestyle = ':', label = 'f(x)=np.cos(x)')\n",
    "plt.plot(x, np.sin(x - 1), color='green', linestyle = 'dashdot', label = 'f(x)=np.sin(x - 1)')\n",
    "plt.plot(x, np.cos(x - 1), linestyle = '--', label = 'f(x)=np.cos(x - 1)')\n",
    "plt.plot(x, x * 0.1, '-.k', label = 'f(x)=x + 0.1')\n",
    "# adding descriptions to the plot\n",
    "# добавление описаний к графику\n",
    "plt.xlabel('x')\n",
    "plt.ylabel('f(x)')\n",
    "plt.legend()\n",
    "\n",
    "plt.show()\n",
    "# save in your local repository\n",
    "# сохранить в локальном хранилище\n",
    "fig.savefig('my_first_figure.png')"
   ]
  },
  {
   "cell_type": "code",
   "execution_count": null,
   "metadata": {
    "colab": {},
    "colab_type": "code",
    "id": "0SqXu3RisEBh"
   },
   "outputs": [],
   "source": [
    "# You can get the list of supported output file formats\n",
    "# Вы можете получить список поддерживаемых форматов выходных файлов\n",
    "fig.canvas.get_supported_filetypes()"
   ]
  },
  {
   "cell_type": "markdown",
   "metadata": {
    "colab_type": "text",
    "id": "lKipnuf-sEBi"
   },
   "source": [
    "#### Note, this interface is stateful: it keeps track of the “current” figure and axes, which are where all plt commands are applied\n",
    "Обратите внимание, что этот интерфейс является с сохранением состояния: он отслеживает \"текущий\" рисунок и оси, к которым применяются все команды plt"
   ]
  },
  {
   "cell_type": "code",
   "execution_count": null,
   "metadata": {
    "colab": {},
    "colab_type": "code",
    "id": "PedWr1husEBj"
   },
   "outputs": [],
   "source": [
    "row_size = 5\n",
    "column_size = 10\n",
    "# # create a plot figure with fixed size\n",
    "# # создать фигуру с фиксированным размером\n",
    "fig = plt.figure(figsize = (column_size, row_size))\n",
    "# # create the first of two panels and set current axis\n",
    "# # создать первую из двух панелей и установить текущую ось\n",
    "plt.subplot(2, 1, 1)\n",
    "plt.plot(x, np.sin(x))\n",
    "# # create the second panel and set current axis\n",
    "# # создать вторую панель и установить текущую ось\n",
    "plt.subplot(2, 1, 2)\n",
    "plt.plot(x, np.cos(x))\n",
    "# #you can adjust the limits on both of the axis of a plot.\n",
    "# #Вы можете настроить пределы по обеим осям графика.\n",
    "plt.xlim(2, 8)\n",
    "plt.ylim(-.5, .5);\n",
    "plt.show()"
   ]
  },
  {
   "cell_type": "code",
   "execution_count": null,
   "metadata": {
    "colab": {},
    "colab_type": "code",
    "id": "qunCnNr9sEBo"
   },
   "outputs": [],
   "source": [
    "row_size = 5\n",
    "column_size = 10\n",
    "fig, (axis1, axis2) = plt.subplots(2, 1, figsize = (column_size, row_size))\n",
    "axis1.plot(x, np.sin(x))\n",
    "axis2.plot(x, np.cos(x))\n",
    "axis1.set(xlim = (3, 8))\n",
    "axis2.set(xlim = (2, 8), ylim = (-.5, .5))\n",
    "plt.show()"
   ]
  },
  {
   "cell_type": "markdown",
   "metadata": {
    "colab_type": "text",
    "id": "yHKsq5JvsEBq"
   },
   "source": [
    "### <font color=\"green\">Your Turn: Arctic Data</font>"
   ]
  },
  {
   "cell_type": "code",
   "execution_count": null,
   "metadata": {
    "colab": {},
    "colab_type": "code",
    "id": "XZUXS4NRsEBr"
   },
   "outputs": [],
   "source": [
    "# Store the ArticData dataset in a dataframe\n",
    "# Сохраните набор данных ArticData в датафрейме\n"
   ]
  },
  {
   "cell_type": "raw",
   "metadata": {},
   "source": []
  },
  {
   "cell_type": "code",
   "execution_count": null,
   "metadata": {
    "colab": {},
    "colab_type": "code",
    "id": "8_XorN37sEBv"
   },
   "outputs": [],
   "source": [
    "# Replace missing values (-9999) by NaN (np.nan)\n",
    "# Замените отсутствующие значения (-9999) на NaN (np.nan)\n",
    "# For the missing values propagate the previous values forward, along rows by specifying the axis\n",
    "#  Для недостающих значений распространите предыдущие значения вперед, вдоль строк, указав ось\n",
    "# Using Matplotlib, plot average monthly temparature for the years 2003 and 2018 in a single figure (hint: use groupby command)\n",
    "# Используя Matplotlib, постройте график среднемесячной температуры для 2003 и 2018 годов на одном рисунке (подсказка: используйте команду groupby).\n",
    "# Show x-y labels and a legend\n",
    "# Показать метки x-y и легенду\n",
    "# Explore the documentation and change the ticks for the x axis such that each month is shown and change the labels to a corresponding description (i.e. 1 is January)\n",
    "# Изучите документацию и измените обозначения для оси x так, чтобы отображался каждый месяц, и измените метки на соответствующее описание (например, 1 - это январь).\n",
    "#TODO\n",
    "plt.show()"
   ]
  },
  {
   "cell_type": "markdown",
   "metadata": {
    "colab_type": "text",
    "id": "3NX3W3lExmYc"
   },
   "source": [
    "### Scatterplot\n",
    "\n",
    "https://matplotlib.org/3.1.1/api/_as_gen/matplotlib.pyplot.scatter.html \n",
    "\n",
    "The primary difference of plt.scatter from plt.plot is that it can be used to create\n",
    "scatter plots where the properties of each individual point (size, face color, edge color,\n",
    "etc.) can be individually controlled or mapped to data.\n",
    "\n",
    "__plt.scatter__ has the capability to render a different size and/or color for each point, so the renderer must do the extra work of constructing each point individually. In __plt.plot__, on the other hand, the points are always essentially clones of each other, so the work of determining the appearance of the points is done only once for the entire set of data. For large datasets, the difference between these two can lead to vastly different performance, and for this reason, __plt.plot__ should be preferred over __plt.scatter__ for large datasets.\n",
    "\n",
    "Основное отличие plt.scatter от plt.plot заключается в том, что его можно использовать для создания\n",
    "диаграммы рассеяния, где свойства каждой отдельной точки (размер, цвет грани, цвет края,\n",
    "и т.д.) можно индивидуально контролировать или сопоставлять с данными.\n",
    "\n",
    "__plt.scatter__ имеет возможность отображать различные размеры и/или цвета для каждой точки, поэтому рендерер должен выполнять дополнительную работу по построению каждой точки отдельно. В __plt.plot__, с другой стороны, точки всегда по сути являются клонами друг друга, поэтому работа по определению внешнего вида точек выполняется только один раз для всего набора данных. Для больших наборов данных разница между этими двумя методами может привести к значительному различию в производительности, и по этой причине __plt.plot__ следует предпочесть __plt.scatter__ для больших наборов данных.\n",
    "\n",
    "(Adapted from https://jakevdp.github.io/PythonDataScienceHandbook/)"
   ]
  },
  {
   "cell_type": "code",
   "execution_count": null,
   "metadata": {
    "colab": {},
    "colab_type": "code",
    "id": "2Y7HXKwdxlx-"
   },
   "outputs": [],
   "source": [
    "#Plot using matplotlib\n",
    "#График с помощью matplotlib\n",
    "plt.scatter(df_iris['sepal.length'],df_iris['sepal.width'],s=20,c='red')\n",
    "plt.title('Scatter plot')\n",
    "plt.xlabel('sepal.length')\n",
    "plt.ylabel('sepal.width')\n",
    "plt.show()"
   ]
  },
  {
   "cell_type": "code",
   "execution_count": null,
   "metadata": {
    "colab": {},
    "colab_type": "code",
    "id": "K__C6er4tk1h"
   },
   "outputs": [],
   "source": [
    "#Plot using pandas\n",
    "ax = df_iris.plot.scatter(x='sepal.length',y='sepal.width',s=20,c='red', title='Scatter plot')"
   ]
  },
  {
   "cell_type": "code",
   "execution_count": null,
   "metadata": {
    "colab": {},
    "colab_type": "code",
    "id": "Sw3xVtMKsEB3"
   },
   "outputs": [],
   "source": [
    "# We can also:\n",
    "# modify the size of each marker based on one of the features \n",
    "# set the opacity level of color \n",
    "# Мы также можем:\n",
    "# изменить размер каждого маркера на основе одной из характеристик. \n",
    "# установить уровень непрозрачности цвета\n",
    "plt.scatter(df_iris['sepal.length'], df_iris['sepal.width'], alpha=0.2, s=100*df_iris['petal.length'], c = 'red')\n",
    "plt.title('Scatter plot')\n",
    "plt.xlabel(df_iris.columns[0])\n",
    "plt.ylabel( df_iris.columns[1])\n",
    "\n"
   ]
  },
  {
   "cell_type": "code",
   "execution_count": null,
   "metadata": {
    "colab": {},
    "colab_type": "code",
    "id": "n6GZM9xgsEB4"
   },
   "outputs": [],
   "source": [
    "# Here is the pandas variation (with different opacity and point sizes based on petal width)\n",
    "# Вот вариант с пандаc (с разной непрозрачностью и размером точки в зависимости от ширины лепестка)\n",
    "ax = df_iris.plot.scatter(x=df_iris.columns[0], y=df_iris.columns[1], alpha = 0.5, s=100*df_iris.iloc[:,3], c='red', title='Scatter plot')"
   ]
  },
  {
   "cell_type": "markdown",
   "metadata": {
    "colab_type": "text",
    "id": "USCMGgXGsEB6"
   },
   "source": [
    "### <font color=\"green\">Your Turn: Cities</font>"
   ]
  },
  {
   "cell_type": "code",
   "execution_count": null,
   "metadata": {
    "colab": {},
    "colab_type": "code",
    "id": "X0vxYt7u2eO_"
   },
   "outputs": [],
   "source": [
    "# Store the cities dataset in a dataframe\n",
    "# Сохраните набор данных о городах в дата фрейме\n"
   ]
  },
  {
   "cell_type": "code",
   "execution_count": null,
   "metadata": {
    "colab": {},
    "colab_type": "code",
    "id": "sFjUPWnYsEB-"
   },
   "outputs": [],
   "source": [
    "# Using matplotlib, create a scatterplot of latitude (y) versus longitude (x) colored by temperature\n",
    "# Используя matplotlib, создайте график зависимости широты (y) от долготы (x), окрашенный по температуре\n",
    "# Provide labels for each axis and colormap\n",
    "# Provide labels for each axis and colormap\n",
    "# Explore here the color maps, and use the most appropriate one\n",
    "# Изучите здесь цветовые карты и используйте наиболее подходящую из них\n",
    "# https://matplotlib.org/3.1.1/tutorials/colors/colormaps.html\n",
    "\n",
    "plt.show()"
   ]
  },
  {
   "cell_type": "code",
   "execution_count": null,
   "metadata": {
    "colab": {},
    "colab_type": "code",
    "id": "fXci1AD7sEB_"
   },
   "outputs": [],
   "source": [
    "# Using pandas plots, create as scatterplot of latitude (y) versus longitude (x) colored by temperature\n",
    "# Again, use the appropriate color map\n",
    "# Используя pandas plots, создайте диаграмму рассеяния широты (y) против долготы (x), окрашенную по температуре.\n",
    "# Опять же, используйте соответствующую цветовую карту\n"
   ]
  },
  {
   "cell_type": "markdown",
   "metadata": {
    "colab_type": "text",
    "id": "sg7VFOHesECB"
   },
   "source": [
    "### Pie Chart\n",
    "https://matplotlib.org/3.1.1/api/_as_gen/matplotlib.pyplot.pie.html\n",
    "https://pandas.pydata.org/pandas-docs/stable/reference/api/pandas.Series.plot.pie.html#pandas.Series.plot.pie"
   ]
  },
  {
   "cell_type": "markdown",
   "metadata": {},
   "source": [
    "#### Пример построения графиков"
   ]
  },
  {
   "cell_type": "code",
   "execution_count": null,
   "metadata": {
    "colab": {},
    "colab_type": "code",
    "id": "m78JYy52sECC"
   },
   "outputs": [],
   "source": [
    "# Prepare the data\n",
    "# Подготовьте данные\n",
    "series_iris_grouped = df_iris.groupby('variety').size()\n",
    "print(series_iris_grouped)"
   ]
  },
  {
   "cell_type": "code",
   "execution_count": null,
   "metadata": {
    "colab": {},
    "colab_type": "code",
    "id": "omR4m59psECD"
   },
   "outputs": [],
   "source": [
    "series_iris_grouped.index"
   ]
  },
  {
   "cell_type": "code",
   "execution_count": null,
   "metadata": {
    "colab": {},
    "colab_type": "code",
    "id": "nFGary_asECG"
   },
   "outputs": [],
   "source": [
    "labels = series_iris_grouped.index\n",
    "sizes = series_iris_grouped.values\n",
    "explode = (0, 0.1, 0)  # only \"explode\" the 2nd slice \n",
    "plt.pie(sizes, labels=labels, shadow=True, startangle=90, autopct='%1.1f%%', explode=explode)\n",
    "plt.title('The variety of Iris flowers')\n",
    "plt.show()"
   ]
  },
  {
   "cell_type": "code",
   "execution_count": null,
   "metadata": {
    "colab": {},
    "colab_type": "code",
    "id": "jNbSuM3ksECJ"
   },
   "outputs": [],
   "source": [
    "ax = series_iris_grouped.plot(kind='pie', figsize=(4, 4), autopct='%1.1f%%', shadow=True, startangle=90, title='The variety of Iris flowers', explode = explode)\n",
    "plt.ylabel('') \n",
    "# see why we need this line\n",
    "plt.show()\n"
   ]
  },
  {
   "cell_type": "markdown",
   "metadata": {
    "colab_type": "text",
    "id": "35lNSFEssECL"
   },
   "source": [
    "### <font color=\"green\">Your Turn: Countries</font>\n"
   ]
  },
  {
   "cell_type": "code",
   "execution_count": null,
   "metadata": {
    "colab": {},
    "colab_type": "code",
    "id": "_3HEc4RCsECM"
   },
   "outputs": [],
   "source": [
    "# Read the countries dataset into a dataframe\n",
    "# Считать набор данных о странах в датафрейм\n"
   ]
  },
  {
   "cell_type": "code",
   "execution_count": null,
   "metadata": {
    "colab": {},
    "colab_type": "code",
    "id": "H_eCJYLnsECN"
   },
   "outputs": [],
   "source": [
    "# Create pie chart using pandas showing the number counties with and without a coastline such that\n",
    "# 1. the biggest portion is 'exploded' and red, while the other one is blue\n",
    "# 2. set the font of the percentages to be white and bold\n",
    "# Look at the provided documentation for hints\n",
    "# Создайте круговую диаграмму с помощью пандас, показывающую количество округов с береговой линией и без нее, таких что\n",
    "# 1. самая большая часть \"exploded\" и красная, а другая - синяя\n",
    "# 2. установите белый и жирный шрифт для процентных значений\n",
    "# Обратитесь к прилагаемой документации за подсказками\n",
    "#TODO\n",
    "\n",
    "countries.groupby="
   ]
  },
  {
   "cell_type": "markdown",
   "metadata": {
    "colab_type": "text",
    "id": "9OS2jIIYsECP"
   },
   "source": [
    "### Box Plot"
   ]
  },
  {
   "cell_type": "markdown",
   "metadata": {
    "colab_type": "text",
    "id": "5T2bilxVsECQ"
   },
   "source": [
    "Box Plot\n",
    "https://matplotlib.org/3.1.1/api/_as_gen/matplotlib.pyplot.boxplot.html\n",
    "\n",
    "Box Plot is the visual representation of the depicting groups of numerical data through their quartiles. Boxplot is also used for detect the outlier in data set. It captures the summary of the data efficiently with a simple box and whiskers and allows us to compare easily across groups. Boxplot summarizes a sample data using 25th, 50th and 75th percentiles. These percentiles are also known as the lower quartile, median and upper quartile.\n",
    "\n",
    "A box plot consist of 5 things.\n",
    "- Minimum\n",
    "- First Quartile or 25%\n",
    "- Median (Second Quartile) or 50%\n",
    "- Third Quartile or 75%\n",
    "- Maximum\n",
    "Графики - это визуальное представление групп числовых данных через их квартили. Графики также используются для выявления выбросов в наборе данных. Он эффективно отображает сводку данных с помощью простых квадратов и усов и позволяет легко сравнивать группы. Boxplot обобщает данные выборки с помощью 25-го, 50-го и 75-го процентилей. Эти процентили также известны как нижний квартиль, медиана и верхний квартиль.\n",
    "\n",
    "Графики состоят из 5 элементов.\n",
    "- Минимум\n",
    "- Первый квартиль или 25%\n",
    "- Медиана (второй квартиль) или 50%\n",
    "- Третий квартиль или 75%\n",
    "- Максимум"
   ]
  },
  {
   "cell_type": "code",
   "execution_count": null,
   "metadata": {
    "colab": {},
    "colab_type": "code",
    "id": "S7lSgv0lsECQ"
   },
   "outputs": [],
   "source": [
    "# Plot boxplot using matplotlib\n",
    "# Boxplot с помощью matplotlib\n",
    "plt.figure(figsize = (5,5))\n",
    "plt.boxplot(df_iris.iloc[:,:-1].values, notch=True, showfliers=True)\n",
    "plt.show()"
   ]
  },
  {
   "cell_type": "code",
   "execution_count": null,
   "metadata": {
    "colab": {},
    "colab_type": "code",
    "id": "Gz4i7Lu4sECS"
   },
   "outputs": [],
   "source": [
    "# Plot boxplot using pandas\n",
    "# boxplot с помощью pandas\n",
    "ax= df_iris.boxplot()\n",
    "plt.show()"
   ]
  },
  {
   "cell_type": "code",
   "execution_count": null,
   "metadata": {
    "colab": {},
    "colab_type": "code",
    "id": "iA73rH8MsECU"
   },
   "outputs": [],
   "source": [
    "# Plot boxplot of sepal lengths for different iris varieties\n",
    "# Боксплоты длины чашелистиков для различных сортов ириса\n",
    "ax =  df_iris.boxplot(by = 'variety', column='sepal.length', rot=30, fontsize=15, grid=False)\n",
    "plt.ylabel('')\n",
    "plt.xlabel('')\n",
    "plt.title('')\n",
    "plt.show()"
   ]
  },
  {
   "cell_type": "markdown",
   "metadata": {
    "colab_type": "text",
    "id": "Q5vw6ebVsECV"
   },
   "source": [
    "### <font color=\"green\">Your Turn: Players and Countries</font>"
   ]
  },
  {
   "cell_type": "code",
   "execution_count": null,
   "metadata": {
    "colab": {},
    "colab_type": "code",
    "id": "oi4tUeB5sECX"
   },
   "outputs": [],
   "source": [
    "# Using pandas, show the boxplots of the shots done by the players in different positions\n",
    "# Используя панды, покажите boxplots бросков, выполненных игроками в разных позициях\n"
   ]
  },
  {
   "cell_type": "code",
   "execution_count": null,
   "metadata": {
    "colab": {},
    "colab_type": "code",
    "id": "QwG8m2UqsECZ"
   },
   "outputs": [],
   "source": [
    "# Using pandas, show the boxplots of populations of countries divided into two groups: in EU or not\n",
    "# Используя пандас, покажите boxplot численности населения стран, разделенных на две группы: в ЕС или нет\n"
   ]
  },
  {
   "cell_type": "markdown",
   "metadata": {
    "colab_type": "text",
    "id": "fKwUqIhGsECa"
   },
   "source": [
    "### Histogram Plot\n",
    "https://matplotlib.org/3.1.1/api/_as_gen/matplotlib.pyplot.hist.html\n",
    "\n",
    "Histograms are a type of bar plot for numeric data that group the data into bins."
   ]
  },
  {
   "cell_type": "code",
   "execution_count": null,
   "metadata": {
    "colab": {},
    "colab_type": "code",
    "id": "i81GQr_ZsECb"
   },
   "outputs": [],
   "source": [
    "# Plot histogram of sepal length using matplotlib\n",
    "# Гистограмма через matplotlib\n",
    "plt.figure(figsize = (5,5))\n",
    "plt.hist(df_iris['sepal.length'], bins = 40, alpha=0.5)\n",
    "plt.title('The variety of Iris flowers')\n",
    "plt.xlabel('sepal length')\n",
    "plt.ylabel('frequency')\n",
    "plt.show()"
   ]
  },
  {
   "cell_type": "code",
   "execution_count": null,
   "metadata": {
    "colab": {},
    "colab_type": "code",
    "id": "BMxRVrIhsECd"
   },
   "outputs": [],
   "source": [
    "# Plot histogram of sepal length using pandas\n",
    "# Гистограмма через pandas\n",
    "df_iris[['sepal.length']].plot.hist(bins = 40, alpha = 0.5, figsize = (5,5))\n",
    "plt.show()"
   ]
  },
  {
   "cell_type": "code",
   "execution_count": null,
   "metadata": {
    "colab": {},
    "colab_type": "code",
    "id": "pmBgigxtsECf"
   },
   "outputs": [],
   "source": [
    "# Plot histogram of all features of iris\n",
    "# Гистограмма всех колонн ириса\n",
    "df_iris.plot.hist(bins = 80, alpha = 0.5, figsize = (5,5))\n",
    "plt.show()"
   ]
  },
  {
   "cell_type": "code",
   "execution_count": null,
   "metadata": {
    "colab": {},
    "colab_type": "code",
    "id": "EUli5C7MsECh"
   },
   "outputs": [],
   "source": [
    "# Note that in pandas you can also drop the 'plot' and directly call the 'hist' function which returns a list of axes corresponding to each feature.\n",
    "#Обратите внимание, что в pandas вы также можете отказаться от функции 'plot' и напрямую вызвать функцию 'hist', которая возвращает список осей, соответствующих каждому признаку.\n",
    "df_iris.hist(bins = 40, alpha = 0.5, figsize = (10,10))\n",
    "plt.show()"
   ]
  },
  {
   "cell_type": "markdown",
   "metadata": {
    "colab_type": "text",
    "id": "q6sqxW7NsECi"
   },
   "source": [
    "### <font color=\"green\">Your Turn: Players</font>\n"
   ]
  },
  {
   "cell_type": "code",
   "execution_count": null,
   "metadata": {
    "colab": {},
    "colab_type": "code",
    "id": "dnJDmLM6sECj"
   },
   "outputs": [],
   "source": [
    "#\n",
    "url = \"Players.csv\"\n",
    "players = pd.read_csv(url)\n",
    "players.head()\n"
   ]
  },
  {
   "cell_type": "code",
   "execution_count": null,
   "metadata": {},
   "outputs": [],
   "source": [
    "#Using pandas, plot histograms with 20 bins of the numerical features in the dataset such that:\n",
    "#1. A figure with multiple subplots where each feature has its own histogram\n"
   ]
  },
  {
   "cell_type": "code",
   "execution_count": null,
   "metadata": {
    "colab": {},
    "colab_type": "code",
    "id": "8xittZQSsECk"
   },
   "outputs": [],
   "source": [
    "#2. A figure with mulitple subplots where histograms of the features with similar scale are combined together into one\n"
   ]
  },
  {
   "cell_type": "code",
   "execution_count": null,
   "metadata": {},
   "outputs": [],
   "source": []
  }
 ],
 "metadata": {
  "colab": {
   "collapsed_sections": [
    "YdApsFw3-_uE",
    "TafWTzJikLmX",
    "RJI7YnnNtlc0",
    "CW9zluH9sEBf",
    "yHKsq5JvsEBq",
    "3NX3W3lExmYc",
    "USCMGgXGsEB6",
    "sg7VFOHesECB",
    "35lNSFEssECL",
    "9OS2jIIYsECP",
    "Q5vw6ebVsECV",
    "fKwUqIhGsECa",
    "q6sqxW7NsECi"
   ],
   "name": "PythonStatsVisualizationReview_Part1.ipynb",
   "provenance": [
    {
     "file_id": "1HGDPkVIFefWYP7s4CthFU-NcImqWFgqk",
     "timestamp": 1570707419524
    }
   ],
   "toc_visible": true
  },
  "kernelspec": {
   "display_name": "Python 3 (ipykernel)",
   "language": "python",
   "name": "python3"
  },
  "language_info": {
   "codemirror_mode": {
    "name": "ipython",
    "version": 3
   },
   "file_extension": ".py",
   "mimetype": "text/x-python",
   "name": "python",
   "nbconvert_exporter": "python",
   "pygments_lexer": "ipython3",
   "version": "3.9.12"
  }
 },
 "nbformat": 4,
 "nbformat_minor": 1
}
