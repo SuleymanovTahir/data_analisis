{
 "cells": [
  {
   "cell_type": "code",
   "execution_count": 1,
   "metadata": {
    "_cell_guid": "b1076dfc-b9ad-4769-8c92-a6c4dae69d19",
    "_uuid": "8f2839f25d086af736a60e9eeb907d3b93b6e0e5",
    "execution": {
     "iopub.execute_input": "2022-08-10T11:58:52.393518Z",
     "iopub.status.busy": "2022-08-10T11:58:52.393220Z",
     "iopub.status.idle": "2022-08-10T11:58:52.430039Z",
     "shell.execute_reply": "2022-08-10T11:58:52.428985Z",
     "shell.execute_reply.started": "2022-08-10T11:58:52.393492Z"
    }
   },
   "outputs": [],
   "source": [
    "import numpy as np \n",
    "import pandas as pd \n",
    "\n"
   ]
  },
  {
   "cell_type": "code",
   "execution_count": 2,
   "metadata": {
    "execution": {
     "iopub.execute_input": "2022-08-10T11:58:54.530424Z",
     "iopub.status.busy": "2022-08-10T11:58:54.529958Z",
     "iopub.status.idle": "2022-08-10T11:59:21.393514Z",
     "shell.execute_reply": "2022-08-10T11:59:21.392351Z",
     "shell.execute_reply.started": "2022-08-10T11:58:54.530388Z"
    }
   },
   "outputs": [
    {
     "name": "stdout",
     "output_type": "stream",
     "text": [
      "Requirement already satisfied: ipywidgets in c:\\users\\samsung\\anaconda3\\lib\\site-packages (7.6.5)\n",
      "Requirement already satisfied: ipython-genutils~=0.2.0 in c:\\users\\samsung\\anaconda3\\lib\\site-packages (from ipywidgets) (0.2.0)\n",
      "Requirement already satisfied: widgetsnbextension~=3.5.0 in c:\\users\\samsung\\anaconda3\\lib\\site-packages (from ipywidgets) (3.5.2)\n",
      "Requirement already satisfied: ipython>=4.0.0 in c:\\users\\samsung\\anaconda3\\lib\\site-packages (from ipywidgets) (8.2.0)\n",
      "Requirement already satisfied: jupyterlab-widgets>=1.0.0 in c:\\users\\samsung\\anaconda3\\lib\\site-packages (from ipywidgets) (1.0.0)\n",
      "Requirement already satisfied: ipykernel>=4.5.1 in c:\\users\\samsung\\anaconda3\\lib\\site-packages (from ipywidgets) (6.9.1)\n",
      "Requirement already satisfied: traitlets>=4.3.1 in c:\\users\\samsung\\anaconda3\\lib\\site-packages (from ipywidgets) (5.1.1)\n",
      "Requirement already satisfied: nbformat>=4.2.0 in c:\\users\\samsung\\anaconda3\\lib\\site-packages (from ipywidgets) (5.3.0)\n",
      "Requirement already satisfied: jupyter-client<8.0 in c:\\users\\samsung\\anaconda3\\lib\\site-packages (from ipykernel>=4.5.1->ipywidgets) (6.1.12)\n",
      "Requirement already satisfied: tornado<7.0,>=4.2 in c:\\users\\samsung\\anaconda3\\lib\\site-packages (from ipykernel>=4.5.1->ipywidgets) (6.1)\n",
      "Requirement already satisfied: nest-asyncio in c:\\users\\samsung\\anaconda3\\lib\\site-packages (from ipykernel>=4.5.1->ipywidgets) (1.5.5)\n",
      "Requirement already satisfied: matplotlib-inline<0.2.0,>=0.1.0 in c:\\users\\samsung\\anaconda3\\lib\\site-packages (from ipykernel>=4.5.1->ipywidgets) (0.1.2)\n",
      "Requirement already satisfied: debugpy<2.0,>=1.0.0 in c:\\users\\samsung\\anaconda3\\lib\\site-packages (from ipykernel>=4.5.1->ipywidgets) (1.5.1)\n",
      "Requirement already satisfied: backcall in c:\\users\\samsung\\anaconda3\\lib\\site-packages (from ipython>=4.0.0->ipywidgets) (0.2.0)\n",
      "Requirement already satisfied: prompt-toolkit!=3.0.0,!=3.0.1,<3.1.0,>=2.0.0 in c:\\users\\samsung\\anaconda3\\lib\\site-packages (from ipython>=4.0.0->ipywidgets) (3.0.20)\n",
      "Requirement already satisfied: stack-data in c:\\users\\samsung\\anaconda3\\lib\\site-packages (from ipython>=4.0.0->ipywidgets) (0.2.0)\n",
      "Requirement already satisfied: pygments>=2.4.0 in c:\\users\\samsung\\anaconda3\\lib\\site-packages (from ipython>=4.0.0->ipywidgets) (2.11.2)\n",
      "Requirement already satisfied: pickleshare in c:\\users\\samsung\\anaconda3\\lib\\site-packages (from ipython>=4.0.0->ipywidgets) (0.7.5)\n",
      "Requirement already satisfied: jedi>=0.16 in c:\\users\\samsung\\anaconda3\\lib\\site-packages (from ipython>=4.0.0->ipywidgets) (0.18.1)\n",
      "Requirement already satisfied: decorator in c:\\users\\samsung\\anaconda3\\lib\\site-packages (from ipython>=4.0.0->ipywidgets) (5.1.1)\n",
      "Requirement already satisfied: colorama in c:\\users\\samsung\\anaconda3\\lib\\site-packages (from ipython>=4.0.0->ipywidgets) (0.4.4)\n",
      "Requirement already satisfied: setuptools>=18.5 in c:\\users\\samsung\\anaconda3\\lib\\site-packages (from ipython>=4.0.0->ipywidgets) (61.2.0)\n",
      "Requirement already satisfied: parso<0.9.0,>=0.8.0 in c:\\users\\samsung\\anaconda3\\lib\\site-packages (from jedi>=0.16->ipython>=4.0.0->ipywidgets) (0.8.3)\n",
      "Requirement already satisfied: pyzmq>=13 in c:\\users\\samsung\\anaconda3\\lib\\site-packages (from jupyter-client<8.0->ipykernel>=4.5.1->ipywidgets) (22.3.0)\n",
      "Requirement already satisfied: python-dateutil>=2.1 in c:\\users\\samsung\\anaconda3\\lib\\site-packages (from jupyter-client<8.0->ipykernel>=4.5.1->ipywidgets) (2.8.2)\n",
      "Requirement already satisfied: jupyter-core>=4.6.0 in c:\\users\\samsung\\anaconda3\\lib\\site-packages (from jupyter-client<8.0->ipykernel>=4.5.1->ipywidgets) (4.9.2)\n",
      "Requirement already satisfied: pywin32>=1.0 in c:\\users\\samsung\\anaconda3\\lib\\site-packages (from jupyter-core>=4.6.0->jupyter-client<8.0->ipykernel>=4.5.1->ipywidgets) (302)\n",
      "Requirement already satisfied: fastjsonschema in c:\\users\\samsung\\anaconda3\\lib\\site-packages (from nbformat>=4.2.0->ipywidgets) (2.15.1)\n",
      "Requirement already satisfied: jsonschema>=2.6 in c:\\users\\samsung\\anaconda3\\lib\\site-packages (from nbformat>=4.2.0->ipywidgets) (4.4.0)\n",
      "Requirement already satisfied: pyrsistent!=0.17.0,!=0.17.1,!=0.17.2,>=0.14.0 in c:\\users\\samsung\\anaconda3\\lib\\site-packages (from jsonschema>=2.6->nbformat>=4.2.0->ipywidgets) (0.18.0)\n",
      "Requirement already satisfied: attrs>=17.4.0 in c:\\users\\samsung\\anaconda3\\lib\\site-packages (from jsonschema>=2.6->nbformat>=4.2.0->ipywidgets) (21.4.0)\n",
      "Requirement already satisfied: wcwidth in c:\\users\\samsung\\anaconda3\\lib\\site-packages (from prompt-toolkit!=3.0.0,!=3.0.1,<3.1.0,>=2.0.0->ipython>=4.0.0->ipywidgets) (0.2.5)\n",
      "Requirement already satisfied: six>=1.5 in c:\\users\\samsung\\anaconda3\\lib\\site-packages (from python-dateutil>=2.1->jupyter-client<8.0->ipykernel>=4.5.1->ipywidgets) (1.16.0)\n",
      "Requirement already satisfied: notebook>=4.4.1 in c:\\users\\samsung\\anaconda3\\lib\\site-packages (from widgetsnbextension~=3.5.0->ipywidgets) (6.4.8)\n",
      "Requirement already satisfied: argon2-cffi in c:\\users\\samsung\\anaconda3\\lib\\site-packages (from notebook>=4.4.1->widgetsnbextension~=3.5.0->ipywidgets) (21.3.0)\n",
      "Requirement already satisfied: jinja2 in c:\\users\\samsung\\anaconda3\\lib\\site-packages (from notebook>=4.4.1->widgetsnbextension~=3.5.0->ipywidgets) (2.11.3)\n",
      "Requirement already satisfied: terminado>=0.8.3 in c:\\users\\samsung\\anaconda3\\lib\\site-packages (from notebook>=4.4.1->widgetsnbextension~=3.5.0->ipywidgets) (0.13.1)\n",
      "Requirement already satisfied: Send2Trash>=1.8.0 in c:\\users\\samsung\\anaconda3\\lib\\site-packages (from notebook>=4.4.1->widgetsnbextension~=3.5.0->ipywidgets) (1.8.0)\n",
      "Requirement already satisfied: nbconvert in c:\\users\\samsung\\anaconda3\\lib\\site-packages (from notebook>=4.4.1->widgetsnbextension~=3.5.0->ipywidgets) (6.4.4)\n",
      "Requirement already satisfied: prometheus-client in c:\\users\\samsung\\anaconda3\\lib\\site-packages (from notebook>=4.4.1->widgetsnbextension~=3.5.0->ipywidgets) (0.13.1)\n",
      "Requirement already satisfied: pywinpty>=1.1.0 in c:\\users\\samsung\\anaconda3\\lib\\site-packages (from terminado>=0.8.3->notebook>=4.4.1->widgetsnbextension~=3.5.0->ipywidgets) (2.0.2)\n",
      "Requirement already satisfied: argon2-cffi-bindings in c:\\users\\samsung\\anaconda3\\lib\\site-packages (from argon2-cffi->notebook>=4.4.1->widgetsnbextension~=3.5.0->ipywidgets) (21.2.0)\n",
      "Requirement already satisfied: cffi>=1.0.1 in c:\\users\\samsung\\anaconda3\\lib\\site-packages (from argon2-cffi-bindings->argon2-cffi->notebook>=4.4.1->widgetsnbextension~=3.5.0->ipywidgets) (1.15.0)\n",
      "Requirement already satisfied: pycparser in c:\\users\\samsung\\anaconda3\\lib\\site-packages (from cffi>=1.0.1->argon2-cffi-bindings->argon2-cffi->notebook>=4.4.1->widgetsnbextension~=3.5.0->ipywidgets) (2.21)\n",
      "Requirement already satisfied: MarkupSafe>=0.23 in c:\\users\\samsung\\anaconda3\\lib\\site-packages (from jinja2->notebook>=4.4.1->widgetsnbextension~=3.5.0->ipywidgets) (2.0.1)\n",
      "Requirement already satisfied: jupyterlab-pygments in c:\\users\\samsung\\anaconda3\\lib\\site-packages (from nbconvert->notebook>=4.4.1->widgetsnbextension~=3.5.0->ipywidgets) (0.1.2)\n",
      "Requirement already satisfied: bleach in c:\\users\\samsung\\anaconda3\\lib\\site-packages (from nbconvert->notebook>=4.4.1->widgetsnbextension~=3.5.0->ipywidgets) (4.1.0)\n",
      "Requirement already satisfied: mistune<2,>=0.8.1 in c:\\users\\samsung\\anaconda3\\lib\\site-packages (from nbconvert->notebook>=4.4.1->widgetsnbextension~=3.5.0->ipywidgets) (0.8.4)\n",
      "Requirement already satisfied: defusedxml in c:\\users\\samsung\\anaconda3\\lib\\site-packages (from nbconvert->notebook>=4.4.1->widgetsnbextension~=3.5.0->ipywidgets) (0.7.1)\n",
      "Requirement already satisfied: nbclient<0.6.0,>=0.5.0 in c:\\users\\samsung\\anaconda3\\lib\\site-packages (from nbconvert->notebook>=4.4.1->widgetsnbextension~=3.5.0->ipywidgets) (0.5.13)\n",
      "Requirement already satisfied: testpath in c:\\users\\samsung\\anaconda3\\lib\\site-packages (from nbconvert->notebook>=4.4.1->widgetsnbextension~=3.5.0->ipywidgets) (0.5.0)\n",
      "Requirement already satisfied: pandocfilters>=1.4.1 in c:\\users\\samsung\\anaconda3\\lib\\site-packages (from nbconvert->notebook>=4.4.1->widgetsnbextension~=3.5.0->ipywidgets) (1.5.0)\n",
      "Requirement already satisfied: beautifulsoup4 in c:\\users\\samsung\\anaconda3\\lib\\site-packages (from nbconvert->notebook>=4.4.1->widgetsnbextension~=3.5.0->ipywidgets) (4.11.1)\n",
      "Requirement already satisfied: entrypoints>=0.2.2 in c:\\users\\samsung\\anaconda3\\lib\\site-packages (from nbconvert->notebook>=4.4.1->widgetsnbextension~=3.5.0->ipywidgets) (0.4)\n",
      "Requirement already satisfied: soupsieve>1.2 in c:\\users\\samsung\\anaconda3\\lib\\site-packages (from beautifulsoup4->nbconvert->notebook>=4.4.1->widgetsnbextension~=3.5.0->ipywidgets) (2.3.1)\n",
      "Requirement already satisfied: packaging in c:\\users\\samsung\\anaconda3\\lib\\site-packages (from bleach->nbconvert->notebook>=4.4.1->widgetsnbextension~=3.5.0->ipywidgets) (21.3)\n",
      "Requirement already satisfied: webencodings in c:\\users\\samsung\\anaconda3\\lib\\site-packages (from bleach->nbconvert->notebook>=4.4.1->widgetsnbextension~=3.5.0->ipywidgets) (0.5.1)\n",
      "Requirement already satisfied: pyparsing!=3.0.5,>=2.0.2 in c:\\users\\samsung\\anaconda3\\lib\\site-packages (from packaging->bleach->nbconvert->notebook>=4.4.1->widgetsnbextension~=3.5.0->ipywidgets) (3.0.4)\n",
      "Requirement already satisfied: asttokens in c:\\users\\samsung\\anaconda3\\lib\\site-packages (from stack-data->ipython>=4.0.0->ipywidgets) (2.0.5)\n",
      "Requirement already satisfied: pure-eval in c:\\users\\samsung\\anaconda3\\lib\\site-packages (from stack-data->ipython>=4.0.0->ipywidgets) (0.2.2)\n",
      "Requirement already satisfied: executing in c:\\users\\samsung\\anaconda3\\lib\\site-packages (from stack-data->ipython>=4.0.0->ipywidgets) (0.8.3)\n"
     ]
    }
   ],
   "source": [
    "!pip install ipywidgets"
   ]
  },
  {
   "cell_type": "code",
   "execution_count": 3,
   "metadata": {
    "execution": {
     "iopub.execute_input": "2022-08-10T12:06:04.614497Z",
     "iopub.status.busy": "2022-08-10T12:06:04.614099Z",
     "iopub.status.idle": "2022-08-10T12:08:33.945543Z",
     "shell.execute_reply": "2022-08-10T12:08:33.944427Z",
     "shell.execute_reply.started": "2022-08-10T12:06:04.614436Z"
    }
   },
   "outputs": [
    {
     "name": "stdout",
     "output_type": "stream",
     "text": [
      "Requirement already satisfied: geocoder in c:\\users\\samsung\\anaconda3\\lib\\site-packages (1.38.1)\n",
      "Requirement already satisfied: six in c:\\users\\samsung\\anaconda3\\lib\\site-packages (from geocoder) (1.16.0)\n",
      "Requirement already satisfied: ratelim in c:\\users\\samsung\\anaconda3\\lib\\site-packages (from geocoder) (0.1.6)\n",
      "Requirement already satisfied: requests in c:\\users\\samsung\\anaconda3\\lib\\site-packages (from geocoder) (2.27.1)\n",
      "Requirement already satisfied: click in c:\\users\\samsung\\anaconda3\\lib\\site-packages (from geocoder) (8.0.4)\n",
      "Requirement already satisfied: future in c:\\users\\samsung\\anaconda3\\lib\\site-packages (from geocoder) (0.18.2)\n",
      "Requirement already satisfied: colorama in c:\\users\\samsung\\anaconda3\\lib\\site-packages (from click->geocoder) (0.4.4)\n",
      "Requirement already satisfied: decorator in c:\\users\\samsung\\anaconda3\\lib\\site-packages (from ratelim->geocoder) (5.1.1)\n",
      "Requirement already satisfied: urllib3<1.27,>=1.21.1 in c:\\users\\samsung\\anaconda3\\lib\\site-packages (from requests->geocoder) (1.26.9)\n",
      "Requirement already satisfied: certifi>=2017.4.17 in c:\\users\\samsung\\anaconda3\\lib\\site-packages (from requests->geocoder) (2021.10.8)\n",
      "Requirement already satisfied: charset-normalizer~=2.0.0 in c:\\users\\samsung\\anaconda3\\lib\\site-packages (from requests->geocoder) (2.0.4)\n",
      "Requirement already satisfied: idna<4,>=2.5 in c:\\users\\samsung\\anaconda3\\lib\\site-packages (from requests->geocoder) (3.3)\n"
     ]
    }
   ],
   "source": [
    "!pip install geocoder"
   ]
  },
  {
   "cell_type": "code",
   "execution_count": null,
   "metadata": {
    "execution": {
     "iopub.execute_input": "2022-08-10T12:04:40.150235Z",
     "iopub.status.busy": "2022-08-10T12:04:40.149902Z",
     "iopub.status.idle": "2022-08-10T12:05:05.281131Z",
     "shell.execute_reply": "2022-08-10T12:05:05.279712Z",
     "shell.execute_reply.started": "2022-08-10T12:04:40.150203Z"
    }
   },
   "outputs": [],
   "source": [
    "!pip install geopy"
   ]
  },
  {
   "cell_type": "code",
   "execution_count": null,
   "metadata": {
    "_cell_guid": "79c7e3d0-c299-4dcb-8224-4455121ee9b0",
    "_uuid": "d629ff2d2480ee46fbb7e2d37f6b5fab8052498a",
    "execution": {
     "iopub.execute_input": "2022-08-10T12:05:54.957088Z",
     "iopub.status.busy": "2022-08-10T12:05:54.956809Z",
     "iopub.status.idle": "2022-08-10T12:05:55.273688Z",
     "shell.execute_reply": "2022-08-10T12:05:55.272827Z",
     "shell.execute_reply.started": "2022-08-10T12:05:54.957062Z"
    }
   },
   "outputs": [],
   "source": [
    "import folium\n",
    "\n",
    "m = folium.Map()\n",
    "m"
   ]
  },
  {
   "cell_type": "code",
   "execution_count": null,
   "metadata": {
    "execution": {
     "iopub.execute_input": "2022-08-10T12:08:33.949773Z",
     "iopub.status.busy": "2022-08-10T12:08:33.949373Z",
     "iopub.status.idle": "2022-08-10T12:08:33.970682Z",
     "shell.execute_reply": "2022-08-10T12:08:33.969827Z",
     "shell.execute_reply.started": "2022-08-10T12:08:33.949740Z"
    }
   },
   "outputs": [],
   "source": [
    "m = folium.Map(\n",
    "    location=[26.8177, 75.8617],\n",
    "    zoom_start = 10,                #Smaller the number - more the map will be zoomed out and vice versa\n",
    "    #tiles=\"Stamen Terrain\",\n",
    "    #tiles=\"Stamen Toner\",\n",
    "    #tiles=\"Stamen Watercolor\",\n",
    "    #tiles=\"Mapbox Bright\",\n",
    "    #tiles=\"Mapbox Control Room\",\n",
    "    #tiles=\"OpenStreetMap\",             #default tile - OpenStreetMap\n",
    "    #tiles=\"CartoDB Positron\",\n",
    "    tiles=\"CartoDB Dark_Matter\",\n",
    "    #tiles=\"http://{s}.tiles.yourtiles.com/{z}/{x}/{y}.png\",     #Custom Tiles\n",
    "\n",
    "    #min_zoom=20,       \n",
    "    #max_zoom=90,\n",
    "    control_scale=True,\n",
    "    prefer_canvas=True,\n",
    "    #no_touch=True,\n",
    "    #disable_3d=True,\n",
    "    #zoom_control=False,\n",
    "    #width=500,\n",
    "    #height=500\n",
    "    )\n",
    "\n",
    "m"
   ]
  },
  {
   "cell_type": "code",
   "execution_count": null,
   "metadata": {},
   "outputs": [],
   "source": [
    "#Resize the Map\n",
    "\n",
    "from branca.element import Figure\n",
    "fig = Figure(width=500, height=500)\n",
    "fig.add_child(m)"
   ]
  },
  {
   "cell_type": "code",
   "execution_count": null,
   "metadata": {},
   "outputs": [],
   "source": [
    "import ipywidgets\n",
    "\n",
    "#Different Types of Maps - show using ipywidgets\n",
    "\n",
    "#widget\n",
    "select_widget = ipywidgets.Select(\n",
    "    options = [\"Open Street Map\", \"Terrain\", \"Toner\", \"Watercolor\", \"Positron\", \"Dark Matter\"],\n",
    "    value = \"Open Street Map\",\n",
    "    description = \"Map Type:\",\n",
    "    disabled = False)\n",
    "\n",
    "def select(map_type):\n",
    "  if map_type == \"Open Street Map\":\n",
    "    display(folium.Map(location=[26.8177, 75.8617], zoom_start=12, height=700))\n",
    "  if map_type == \"Terrain\":\n",
    "    display(folium.Map(location=[26.8177, 75.8617], tiles=\"Stamen Terrain\",zoom_start=12, height=700))\n",
    "  if map_type == \"Toner\":\n",
    "    display(folium.Map(location=[26.8177, 75.8617], tiles=\"Stamen Toner\",zoom_start=12, height=700))\n",
    "  if map_type == \"Watercolor\":\n",
    "    display(folium.Map(location=[26.8177, 75.8617], tiles=\"Stamen Watercolor\",zoom_start=12, height=700))\n",
    "  if map_type == \"Positron\":\n",
    "    display(folium.Map(location=[26.8177, 75.8617], tiles=\"CartoDB Positron\",zoom_start=12, height=700))\n",
    "  if map_type == \"Dark Matter\":\n",
    "    display(folium.Map(location=[26.8177, 75.8617], tiles=\"CartoDB Dark_Matter\",zoom_start=12, height=700))\n",
    "\n",
    "ipywidgets.interact(select, map_type=select_widget)"
   ]
  },
  {
   "cell_type": "code",
   "execution_count": null,
   "metadata": {},
   "outputs": [],
   "source": [
    "#Show maps using Map Layer Control\n",
    "\n",
    "map_layer_control = folium.Map(location=[26.8177, 75.8617], zoom_start=2)\n",
    "folium.raster_layers.TileLayer('Open Street Map').add_to(map_layer_control)\n",
    "folium.raster_layers.TileLayer('Stamen Terrain').add_to(map_layer_control)\n",
    "folium.raster_layers.TileLayer('Stamen Toner').add_to(map_layer_control)\n",
    "folium.raster_layers.TileLayer('Stamen Watercolor').add_to(map_layer_control)\n",
    "folium.raster_layers.TileLayer('CartoDB Dark_Matter').add_to(map_layer_control)\n",
    "folium.raster_layers.TileLayer('CartoDB Positron').add_to(map_layer_control)\n",
    "\n",
    "folium.LayerControl().add_to(map_layer_control)\n",
    "map_layer_control"
   ]
  },
  {
   "cell_type": "code",
   "execution_count": null,
   "metadata": {},
   "outputs": [],
   "source": [
    "#Creating Minimaps\n",
    "from folium import plugins\n",
    "\n",
    "m = folium.Map(location=[26.8549, 75.8243], zoom_start=7)\n",
    "minimap = plugins.MiniMap(toggle_display=True)\n",
    "m.add_child(minimap)\n",
    "plugins.ScrollZoomToggler().add_to(m)\n",
    "plugins.Fullscreen(position=\"topright\").add_to(m)\n",
    "\n",
    "m"
   ]
  },
  {
   "cell_type": "code",
   "execution_count": null,
   "metadata": {},
   "outputs": [],
   "source": [
    "import geocoder\n",
    "import geopy\n",
    "\n",
    "#Markers\n",
    "map_home = folium.Map(\n",
    "    location=[26.8549, 75.8243],\n",
    "    zoom_start=14\n",
    ")\n",
    "address = geocoder.osm(\"A-1006, Ashiana Greenwood, Near Shooting Range, Jagatpura, Jaipur\")\n",
    "address_latlng = [address.lat, address.lng]\n",
    "\n",
    "folium.Marker([26.8549, 75.8243], \n",
    "              popup='<i>Ashiana Greenwood</i>',\n",
    "              tooltip = \"Click Me!\"\n",
    "              ).add_to(map_home)\n",
    "\n",
    "map_home"
   ]
  },
  {
   "cell_type": "code",
   "execution_count": null,
   "metadata": {},
   "outputs": [],
   "source": [
    "m = folium.Map(\n",
    "    location=[26.8549, 75.8243],\n",
    "    zoom_start=12,\n",
    "    tiles='Stamen Terrain'\n",
    ")\n",
    "\n",
    "tooltip = 'Click me!'\n",
    "\n",
    "folium.Marker([26.8549, 75.8243], \n",
    "              popup='<i>Gaurav Tower</i>', \n",
    "              tooltip=tooltip,\n",
    "              icon=folium.Icon(icon='cloud', color=\"red\", icon_color=\"blue\")\n",
    "              ).add_to(m)\n",
    "#folium.Marker([26.8177, -75.8617], popup='<b>Malviya Nagar</b>', tooltip=tooltip).add_to(m)\n",
    "\n",
    "m"
   ]
  },
  {
   "cell_type": "code",
   "execution_count": null,
   "metadata": {},
   "outputs": [],
   "source": [
    "#font-awesome Custom Icon\n",
    "#website - https://fontawesome.com/icons?d=gallery\n",
    "\n",
    "mp = folium.Map(\n",
    "    location=[26.8549, 75.8243],\n",
    "    zoom_start=12,\n",
    "    tiles='Stamen Terrain'\n",
    ")\n",
    "\n",
    "tooltip = 'Click me!'\n",
    "\n",
    "folium.Marker([26.8549, 75.8243], \n",
    "              popup='Jaipur', \n",
    "              tooltip=tooltip,\n",
    "              icon=folium.Icon(icon='bolt', color=\"green\", icon_color=\"white\",prefix=\"fa\")\n",
    "              ).add_to(mp)\n",
    "\n",
    "mp"
   ]
  },
  {
   "cell_type": "code",
   "execution_count": null,
   "metadata": {},
   "outputs": [],
   "source": [
    "#Using Glyphicon Bootstrap icons\n",
    "#website - https://getbootstrap.com/docs/3.3/components/\n",
    "\n",
    "mp_cm_glyphicon = folium.Map(location=[26.8549, 75.8243],\n",
    "    zoom_start=12,\n",
    "    tiles='Stamen Terrain')\n",
    "\n",
    "folium.Marker(location=[26.8549, 75.8243],\n",
    "              popup=\"city\",\n",
    "              icon=folium.Icon(icon=\"glyphicon-plane\", prefix=\"glyphicon\")).add_to(mp_cm_glyphicon)\n",
    "\n",
    "mp_cm_glyphicon"
   ]
  },
  {
   "cell_type": "code",
   "execution_count": null,
   "metadata": {},
   "outputs": [],
   "source": [
    "mp_circle = folium.Map(\n",
    "    location=[26.8549, 75.8243],\n",
    "    zoom_start=12,\n",
    "    tiles='Stamen Terrain'\n",
    ")\n",
    "\n",
    "#Circle gets bigger, smaller on zoomin, zoomout\n",
    "folium.Circle(\n",
    "    radius=1000,          #radius in meters\n",
    "    location=[26.8586, 75.8243],\n",
    "    popup='The Mall',\n",
    "    color='crimson',\n",
    "    zoom_start=40,\n",
    "    fill=False\n",
    ").add_to(mp_circle)\n",
    "\n",
    "mp_circle"
   ]
  },
  {
   "cell_type": "code",
   "execution_count": null,
   "metadata": {},
   "outputs": [],
   "source": [
    "mp_circle = folium.Map(\n",
    "    location=[26.8549, 75.8243],\n",
    "    zoom_start=12,\n",
    "    tiles='CartoDB Dark_Matter'\n",
    ")\n",
    "\n",
    "#Circle Stays the same size\n",
    "folium.CircleMarker(\n",
    "    location=[26.8999, 75.8243],\n",
    "    radius=50,              #radius in pixels\n",
    "    popup='Raja Park',\n",
    "    color='blue',\n",
    "    fill=True,\n",
    "    fill_color='blue',\n",
    "    fill_opacity = 0.3\n",
    ").add_to(mp_circle)\n",
    "\n",
    "mp_circle"
   ]
  },
  {
   "cell_type": "code",
   "execution_count": null,
   "metadata": {},
   "outputs": [],
   "source": [
    "#Enble Lat Long Popovers - find location interactively browsing the map\n",
    "m = folium.Map(\n",
    "    location=[26.8999, 75.8243],\n",
    "    zoom_start=13\n",
    ")\n",
    "\n",
    "m.add_child(folium.LatLngPopup())\n",
    "\n",
    "m"
   ]
  },
  {
   "cell_type": "code",
   "execution_count": null,
   "metadata": {},
   "outputs": [],
   "source": [
    "#On the Fly Placement of Markers\n",
    "m = folium.Map(\n",
    "    location=[26.8999, 75.8243],\n",
    "    tiles='Stamen Terrain',\n",
    "    zoom_start=13\n",
    ")\n",
    "\n",
    "folium.Marker(\n",
    "    [26.8999, 75.8243],\n",
    "    popup='Raja Park'\n",
    ").add_to(m)\n",
    "\n",
    "m.add_child(folium.ClickForMarker(popup='Waypoint'))\n",
    "\n",
    "m"
   ]
  },
  {
   "cell_type": "code",
   "execution_count": null,
   "metadata": {},
   "outputs": [],
   "source": [
    "#Creating Route\n",
    "\n",
    "m_route = folium.Map(\n",
    "    location=[26.8999, 75.8243],\n",
    "    tiles = \"CartoDB Dark_Matter\",\n",
    "    zoom_start=13\n",
    ")\n",
    "\n",
    "route_lats_long = [[26.9058, 75.7873],\n",
    "                   [26.8892, 75.8039],\n",
    "                   [26.8763, 75.8122],\n",
    "                   [26.8676, 75.7921]]\n",
    "\n",
    "#Add route to map\n",
    "folium.PolyLine(route_lats_long).add_to(m_route)\n",
    "\n",
    "m_route"
   ]
  },
  {
   "cell_type": "code",
   "execution_count": null,
   "metadata": {},
   "outputs": [],
   "source": [
    "#Creating Route using antpath - Animated path\n",
    "\n",
    "mp_ant_route = folium.Map(\n",
    "    location=[26.8999, 75.8243],\n",
    "    tiles = \"CartoDB Dark_Matter\",\n",
    "    zoom_start=13\n",
    ")\n",
    "\n",
    "route_lats_long = [[26.8905, 75.7602],\n",
    "                   [26.8679, 75.8427],\n",
    "                   [26.9172, 75.7365],\n",
    "                   [26.8676, 75.7921]]\n",
    "\n",
    "plugins.AntPath(route_lats_long).add_to(mp_ant_route)\n",
    "\n",
    "mp_ant_route"
   ]
  },
  {
   "cell_type": "code",
   "execution_count": null,
   "metadata": {},
   "outputs": [],
   "source": [
    "!pip install vega_datasets"
   ]
  },
  {
   "cell_type": "code",
   "execution_count": null,
   "metadata": {},
   "outputs": [],
   "source": [
    "#Airports dataframe using vega_datasets\n",
    "from vega_datasets import data as vds\n",
    "airports = vds.airports()\n",
    "airports = airports[:25]\n",
    "airports.head()\n",
    "\n",
    "#Locating Airports in United States\n",
    "map_airports = folium.Map(location=[38,-98],zoom_start=4)\n",
    "\n",
    "#Plot airport locations - method 1 - using loop\n",
    "for (index,row) in airports.iterrows():\n",
    "  folium.Marker(location = [row.loc['latitude'], row.loc['longitude']], \n",
    "              popup=row.loc['name']+' '+row.loc['city']+' '+row.loc['state'], \n",
    "              tooltip=\"Click Me!\",\n",
    "              icon=folium.Icon(icon=\"glyphicon-plane\", prefix=\"glyphicon\")\n",
    "              ).add_to(map_airports)\n",
    "\n",
    "#Plot airport locations - method 2 - without using loop\n",
    "#map_airports_2 = folium.Map(location=[38,-98],zoom_start=4)\n",
    "\n",
    "#airports.apply(lambda row: folium.Marker(location = [row.loc['latitude'], row.loc['longitude']],\n",
    "                                         #popup=row.loc['name'],\n",
    "                                         #icon=folium.Icon(icon=\"glyphicon-plane\", prefix=\"glyphicon\")).add_to(map_airports_2), axis=1)\n",
    "\n",
    "map_airports"
   ]
  },
  {
   "cell_type": "code",
   "execution_count": null,
   "metadata": {},
   "outputs": [],
   "source": [
    "#If the dataset is a dictionary\n",
    "\n",
    "markers_dict = {\"Los Angeles\":[34.041008, -118.246653],\n",
    "                \"Las Vegas\":[36.169726, -115.143996],\n",
    "                \"Denver\":[39.739448, -104.992450],\n",
    "                \"Chicago\":[41.878765, -87.643267],\n",
    "                \"Manhattan\":[40.782949, -73.969559]}\n",
    "\n",
    "map_cities = folium.Map(location=[41, -99], zoom_start=4)\n",
    "\n",
    "for i in markers_dict.items():\n",
    "  folium.Marker(location=i[1], popup=i[0]).add_to(map_cities)\n",
    "  print(i)\n",
    "\n",
    "map_cities"
   ]
  },
  {
   "cell_type": "code",
   "execution_count": null,
   "metadata": {},
   "outputs": [],
   "source": [
    "#Multiple Custom Markers\n",
    "import pandas as pd\n",
    "\n",
    "cm_df = pd.DataFrame({'city' : ['Los Angeles', 'Las Vegas', 'Denver', 'Chicago', 'Manhattan'],\n",
    "                      'latitude' : [34.041008, 36.169726, 39.739448, 41.878765, 40.782949],\n",
    "                      'longitude' : [-118.246653, -115.143996, -104.992450, -87.643267, -73.969559],\n",
    "                      'icon' : ['bicycle','car','bus','truck','motorcycle']})\n",
    "cm_df"
   ]
  },
  {
   "cell_type": "code",
   "execution_count": null,
   "metadata": {},
   "outputs": [],
   "source": [
    "mp_multiple_mark = folium.Map(location=[38,-98], zoom_start=4)\n",
    "\n",
    "for i in cm_df.itertuples():\n",
    "  folium.Marker(location=[i.latitude, i.longitude],\n",
    "                popup=i.city,\n",
    "                icon = folium.Icon(icon=i.icon, prefix='fa')).add_to(mp_multiple_mark)\n",
    "\n",
    "mp_multiple_mark"
   ]
  },
  {
   "cell_type": "code",
   "execution_count": null,
   "metadata": {},
   "outputs": [],
   "source": [
    "for i in cm_df.itertuples():\n",
    "  print(i)\n",
    "  print(i.city)"
   ]
  },
  {
   "cell_type": "code",
   "execution_count": null,
   "metadata": {},
   "outputs": [],
   "source": [
    "cm_df = pd.DataFrame({'city' : ['Los Angeles', 'Las Vegas', 'Denver', 'Chicago', 'Manhattan'],\n",
    "                      'latitude' : [34.041008, 36.169726, 39.739448, 41.878765, 40.782949],\n",
    "                      'longitude' : [-118.246653, -115.143996, -104.992450, -87.643267, -73.969559],\n",
    "                      'icon_num' : [1,2,3,4,5]})\n",
    "\n",
    "map_enum_icons = folium.Map([38, -98], zoom_start=4)\n",
    "\n",
    "for i in cm_df.itertuples():\n",
    "  folium.Marker(location=[i.latitude, i.longitude],\n",
    "                popup=i.city,\n",
    "                icon = plugins.BeautifyIcon(number=i.icon_num,\n",
    "                                            border_color='blue',\n",
    "                                            border_width=1,\n",
    "                                            text_color='red',\n",
    "                                            inner_icon_style='margin-top:0px;',\n",
    "                                            #icon=\"graphicon-plane\",\n",
    "                                            #border_width=3,\n",
    "                                            #border_color='#000',\n",
    "                                            #background_color=\"#FFF\",\n",
    "                                            #inner_color_style=\"\",\n",
    "                                            spin=True,\n",
    "                                            )).add_to(map_enum_icons)\n",
    "\n",
    "map_enum_icons"
   ]
  },
  {
   "cell_type": "code",
   "execution_count": null,
   "metadata": {},
   "outputs": [],
   "source": [
    "cm_df"
   ]
  },
  {
   "cell_type": "code",
   "execution_count": null,
   "metadata": {},
   "outputs": [],
   "source": [
    "#Overlay GeoJSON Layers \n",
    "import json\n",
    "map_geoJson = folium.Map(location=[26.8999, 75.8243], zoom_start=11)\n",
    "folium.GeoJson(json.load(open('C:/Users/samsung/Downloads/map.geojson')), name=\"geojson Jaipur\").add_to(map_geoJson)\n",
    "folium.LayerControl().add_to(map_geoJson)\n",
    "map_geoJson"
   ]
  },
  {
   "cell_type": "code",
   "execution_count": null,
   "metadata": {},
   "outputs": [],
   "source": [
    "#Creating HeatMap\n",
    "\n",
    "#location data for large cities in India\n",
    "Mumbai = geocoder.osm(\"Mumbai, Maharashtra, India\")\n",
    "Kolkata = geocoder.osm(\"Kolkata, West Bengal, India\")\n",
    "New_Delhi = geocoder.osm(\"New Delhi, Delhi, India\")\n",
    "Chennai = geocoder.osm(\"Chennai, Tamil Nadu, India\")\n",
    "Bangalore = geocoder.osm(\"Bangalore, Karnataka, India\")\n",
    "Jaipur = geocoder.osm(\"Jaipur, Rajasthan, India\")\n",
    "Kerala = geocoder.osm(\"Kerala, India\")\n",
    "Hyderabad = geocoder.osm(\"Hyderabad, Telangana, India\")\n",
    "Ahmedabad = geocoder.osm(\"Ahmedabad, Gujarat, India\")\n",
    "\n",
    "#Create Latitude, Longitude, Intensity of Population\n",
    "Mumbai_latlang = [Mumbai.lat, Mumbai.lng, 18400000/10000]\n",
    "Kolkata_latlang = [Kolkata.lat, Kolkata.lng, 4500000/10000]\n",
    "New_Delhi_latlang = [New_Delhi.lat, New_Delhi.lng, 21800000/10000]\n",
    "Chennai_latlang = [Chennai.lat, Chennai.lng, 7090000/10000]\n",
    "Bangalore_latlang = [Bangalore.lat, Bangalore.lng, 8430000/10000]\n",
    "Jaipur_latlang = [Jaipur.lat, Jaipur.lng, 3070000/10000]\n",
    "Kerala_latlang = [Kerala.lat, Kerala.lng, 34800000/10000]\n",
    "Hyderabad_latlang = [Hyderabad.lat, Hyderabad.lng, 6810000/10000]\n",
    "Ahmedabad_latlang = [Ahmedabad.lat, Ahmedabad.lng, 5570000/10000]\n",
    "\n",
    "#Create list of Large Cities\n",
    "large_cities = [Mumbai_latlang, Kolkata_latlang, New_Delhi_latlang, Chennai_latlang, Bangalore_latlang, Jaipur_latlang, Kerala_latlang, Hyderabad_latlang,\n",
    "                Ahmedabad_latlang]\n",
    "\n",
    "map_heatmap = folium.Map([20.5937, 78.9629], tiles=\"CartoDB Dark_Matter\", zoom_start=5)\n",
    "\n",
    "plugins.HeatMap(large_cities, \n",
    "                name=\"Population Density\", \n",
    "                #radius=50,\n",
    "                #min_opacity = 1,\n",
    "                #max_zoom=18,\n",
    "                #blur=20,\n",
    "                #overlay=False,\n",
    "                #control=False,\n",
    "                #show=False\n",
    "                ).add_to(map_heatmap)\n",
    "\n",
    "map_heatmap"
   ]
  },
  {
   "cell_type": "code",
   "execution_count": null,
   "metadata": {},
   "outputs": [],
   "source": [
    "import numpy as np\n",
    "import pandas as pd\n",
    "\n",
    "heatmap_time_data = (np.random.random((100,20,2)) + np.array([[20.5937, 78.9629]])).tolist()\n",
    "heatmap_time_dates = [d.strftime(\"%Y-%m-%d\") for d in pd.date_range('20160101', periods=len(heatmap_time_data))]\n",
    "map_heatmap_time = folium.Map([20.5937, 78.9629], tiles=\"CartoDB Dark_Matter\",zoom_start=6)\n",
    "heatmap_time_plugin = plugins.HeatMapWithTime(heatmap_time_data, index=heatmap_time_dates)\n",
    "heatmap_time_plugin.add_to(map_heatmap_time)\n",
    "\n",
    "map_heatmap_time"
   ]
  },
  {
   "cell_type": "code",
   "execution_count": null,
   "metadata": {},
   "outputs": [],
   "source": [
    "#Measure Control\n",
    "\n",
    "map_Measure = folium.Map(location=[20.5937, 78.9629], zoom_start=5, tiles=\"CartoDB Dark_Matter\")\n",
    "\n",
    "Measure_Control = plugins.MeasureControl(position='topright', \n",
    "                                         #active_color=\"red\",\n",
    "                                         #completed_color=\"red\",\n",
    "                                         primary_length_unit='miles', \n",
    "                                         secondary_length_unit='miles', \n",
    "                                         primary_area_unit='sqmeters', \n",
    "                                         secondary_area_unit='acres')\n",
    "\n",
    "map_Measure.add_child(Measure_Control)\n",
    "map_Measure"
   ]
  },
  {
   "cell_type": "code",
   "execution_count": null,
   "metadata": {},
   "outputs": [],
   "source": [
    "#Dual Map\n",
    "\n",
    "map_dual = plugins.DualMap(location=[20.5937, 78.9629], zoom_start=4, layout=\"vertical\")\n",
    "\n",
    "folium.TileLayer(\"Stamen Terrain\").add_to(map_dual)\n",
    "folium.TileLayer(\"CartoDB Dark_Matter\").add_to(map_dual)\n",
    "\n",
    "folium.LayerControl().add_to(map_dual)\n",
    "\n",
    "map_dual"
   ]
  },
  {
   "cell_type": "code",
   "execution_count": null,
   "metadata": {},
   "outputs": [],
   "source": [
    "#Draw\n",
    "\n",
    "map_draw = folium.Map(location=[20.5937, 78.9629], zoom_start=4, tiles=\"CartoDB Dark_Matter\")\n",
    "draw = plugins.Draw(export=True).add_to(map_draw)\n",
    "map_draw"
   ]
  },
  {
   "cell_type": "code",
   "execution_count": null,
   "metadata": {},
   "outputs": [],
   "source": [
    "#Overlay Image\n",
    "\n",
    "map_image_overlay = folium.Map([2, 22], zoom_start=2, tiles=\"CartoDB Dark_Matter\")\n",
    "\n",
    "img_overlay = folium.raster_layers.ImageOverlay(name=\"Flags of Africa\",\n",
    "                                                image=\"C:/Users/samsung/Downloads/flags_of_Africa.png\",\n",
    "                                                bounds=[[-38,-28],[38.5, 60]],\n",
    "                                                opacity=0.3,\n",
    "                                                zindex=1)\n",
    "\n",
    "img_overlay.add_to(map_image_overlay)\n",
    "folium.LayerControl().add_to(map_image_overlay)\n",
    "\n",
    "map_image_overlay"
   ]
  },
  {
   "cell_type": "code",
   "execution_count": null,
   "metadata": {},
   "outputs": [],
   "source": [
    "#Charts in PopUP\n",
    "\n",
    "seattle_weather = vds.seattle_weather()\n",
    "seattle_weather.head()"
   ]
  },
  {
   "cell_type": "code",
   "execution_count": null,
   "metadata": {},
   "outputs": [],
   "source": [
    "import altair\n",
    "\n",
    "sw_means = pd.DataFrame({\"seattle_x\": ['precipitation',\t'temp_max',\t'temp_min',\t'wind'],\n",
    "                        \"seattle_y\": [seattle_weather.precipitation.mean(),\n",
    "                                     seattle_weather.temp_max.mean(),\n",
    "                                     seattle_weather.temp_min.mean(),\n",
    "                                     seattle_weather.wind.mean()]})\n",
    "\n",
    "chart = altair.Chart(sw_means, width=300).mark_bar().encode(x=\"seattle_x\",y=\"seattle_y\").properties(title=\"Seattle Weather Averages\")\n",
    "\n",
    "chart"
   ]
  },
  {
   "cell_type": "code",
   "execution_count": null,
   "metadata": {},
   "outputs": [],
   "source": [
    "#Embed Chart in marker corresponding to location\n",
    "\n",
    "vega = folium.features.VegaLite(chart, width=\"100%\", height=\"100%\")\n",
    "map_chart = folium.Map(location=[47.606322, -122.332575])\n",
    "marker = folium.features.Marker([47.60, -122.33])\n",
    "popup = folium.Popup()\n",
    "vega.add_to(popup)\n",
    "marker.add_to(map_chart)\n",
    "popup.add_to(marker)\n",
    "\n",
    "map_chart"
   ]
  },
  {
   "cell_type": "code",
   "execution_count": null,
   "metadata": {},
   "outputs": [],
   "source": [
    "address_box = ipywidgets.Text(valur='', placeholder='type here', description='address')\n",
    "def plot_locations(address):\n",
    "  location=geocoder.osm(address)\n",
    "  latlng = [location.lat, location.lng]\n",
    "  plot_locations_map = folium.Map(location=[20.5937, 78.9629], zoom_start=5)\n",
    "  folium.Marker(latlng, popup=str(address), tooltip=\"Click\").add_to(plot_locations_map)\n",
    "  display(plot_locations_map)\n",
    "\n",
    "ipywidgets.interact_manual(plot_locations, address=address_box)"
   ]
  },
  {
   "cell_type": "code",
   "execution_count": null,
   "metadata": {},
   "outputs": [],
   "source": [
    "import geopy.distance\n",
    "\n",
    "route_start_widget = ipywidgets.Text(valur='', placeholder='type here', description='start:')\n",
    "route_stop_widget = ipywidgets.Text(valur='', placeholder='type here', description='stop:')\n",
    "\n",
    "def get_distance(start_address, stop_address):\n",
    "  start_location = geocoder.osm(start_address)\n",
    "  stop_location = geocoder.osm(stop_address)\n",
    "\n",
    "  start_latlng = [start_location.lat, start_location.lng]\n",
    "  stop_latlng = [stop_location.lat, stop_location.lng]\n",
    "\n",
    "  distance = geopy.distance.distance(start_latlng, stop_latlng).miles\n",
    "  print(f\"Distance: {distance:.2f} miles\")\n",
    "\n",
    "  distance_path = [(start_latlng), (stop_latlng)]\n",
    "  map_distance  = folium.Map(location=[20.5937, 78.9629], zoom_start=5)\n",
    "  plugins.AntPath(distance_path).add_to(map_distance)\n",
    "  display(map_distance)\n",
    "\n",
    "ipywidgets.interact_manual(get_distance, start_address=route_start_widget, stop_address=route_stop_widget)"
   ]
  },
  {
   "cell_type": "code",
   "execution_count": null,
   "metadata": {},
   "outputs": [],
   "source": [
    "#FeatureGroupSubGroup\n",
    "\n",
    "map_with_subgroups = folium.Map(location=[39.77, -86.15], zoom_start=7, tiles=\"CartoDB Dark_Matter\")\n",
    "\n",
    "# all subgroups\n",
    "all_subgroups = folium.FeatureGroup(name='all sales regions')\n",
    "map_with_subgroups.add_child(all_subgroups)\n",
    "\n",
    "# subgroup 1\n",
    "sales_region1 = plugins.FeatureGroupSubGroup(all_subgroups, 'sales region 1')\n",
    "map_with_subgroups.add_child(sales_region1)\n",
    "\n",
    "# subgroup 2\n",
    "sales_region2 = plugins.FeatureGroupSubGroup(all_subgroups, 'sales region 2')\n",
    "map_with_subgroups.add_child(sales_region2)\n",
    "\n",
    "# subgroup 3\n",
    "sales_region3 = plugins.FeatureGroupSubGroup(all_subgroups, 'sales region 3')\n",
    "map_with_subgroups.add_child(sales_region3)\n",
    "\n",
    "# pull in geojson layers and add to map\n",
    "folium.GeoJson(json.load(open('C:/Users/samsung/Downloads/sales_region1.geojson')),name=\"Sales Region 1\").add_to(sales_region1)\n",
    "folium.GeoJson(json.load(open('C:/Users/samsung/Downloads//sales_region2.geojson')), name=\"Sales Region 2\").add_to(sales_region2)\n",
    "folium.GeoJson(json.load(open('C:/Users/samsung/Downloads//sales_region3.geojson')), name=\"Sales Region 3\").add_to(sales_region3)\n",
    "\n",
    "# add layer control to map (allows layers to be turned on or off)\n",
    "folium.LayerControl(collapsed=False).add_to(map_with_subgroups)\n",
    "\n",
    "# display map\n",
    "map_with_subgroups"
   ]
  },
  {
   "cell_type": "code",
   "execution_count": null,
   "metadata": {},
   "outputs": [],
   "source": []
  }
 ],
 "metadata": {
  "kernelspec": {
   "display_name": "Python 3 (ipykernel)",
   "language": "python",
   "name": "python3"
  },
  "language_info": {
   "codemirror_mode": {
    "name": "ipython",
    "version": 3
   },
   "file_extension": ".py",
   "mimetype": "text/x-python",
   "name": "python",
   "nbconvert_exporter": "python",
   "pygments_lexer": "ipython3",
   "version": "3.9.12"
  }
 },
 "nbformat": 4,
 "nbformat_minor": 4
}
