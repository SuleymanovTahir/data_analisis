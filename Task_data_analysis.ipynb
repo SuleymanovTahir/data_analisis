{
 "cells": [
  {
   "cell_type": "markdown",
   "id": "8affee9c",
   "metadata": {},
   "source": [
    "# Titanic dataset"
   ]
  },
  {
   "cell_type": "markdown",
   "id": "559f3c45",
   "metadata": {},
   "source": [
    " ### Steps Covered\n",
    "\n",
    "\n",
    "1. Importing  a DataFrame\n",
    "2. Visualize the Data\n",
    "3. Cleanup and Transform the Data"
   ]
  },
  {
   "cell_type": "markdown",
   "id": "f49040c5",
   "metadata": {},
   "source": [
    "CSV to DataFrame\n",
    "CSV files can be loaded into a dataframe by calling pd.read_csv . After loading the training and test files, print a sample to see what you're working with."
   ]
  },
  {
   "cell_type": "code",
   "execution_count": null,
   "id": "a981dec1",
   "metadata": {},
   "outputs": [],
   "source": [
    "#import necessary libraries\n",
    "#print sample 3 rows"
   ]
  },
  {
   "cell_type": "markdown",
   "id": "7218b9d2",
   "metadata": {},
   "source": [
    "## Visualizing Data\n",
    "\n",
    "Visualizing data is crucial for recognizing underlying patterns to exploit in the model."
   ]
  },
  {
   "cell_type": "code",
   "execution_count": null,
   "id": "341d6e49",
   "metadata": {},
   "outputs": [],
   "source": [
    "#make a barplot x-Embarked y-Survived depending on Sex"
   ]
  },
  {
   "cell_type": "code",
   "execution_count": null,
   "id": "9eba60c2",
   "metadata": {},
   "outputs": [],
   "source": [
    "#make a linegraph x=Pclass, y-Survived depending on Sex"
   ]
  },
  {
   "cell_type": "markdown",
   "id": "5dbf8d61",
   "metadata": {},
   "source": [
    "## Transforming Features\n",
    "1 Aside from 'Sex', the 'Age' feature is second in importance. To avoid overfitting, group people into logical human age groups.\n",
    "2 Each Cabin starts with a letter. Delete numbers in Cabin column, leave only letters.\n",
    "3 Fare is another continuous value that should be simplified. Make a data distribution for Fare, then place them into quartile bins accordingly.\n",
    "4 Extract information from the 'Name' feature. Rather than use the full name, extracte the last name and name prefix (Mr. Mrs. Etc.), then appende them as their own features.\n",
    "5 Lastly, drop useless features. (Ticket and Name)"
   ]
  },
  {
   "cell_type": "code",
   "execution_count": null,
   "id": "92391cda",
   "metadata": {},
   "outputs": [],
   "source": [
    "#make a barblot x-Age, y-Survived, depending on the Sex feature"
   ]
  },
  {
   "cell_type": "code",
   "execution_count": null,
   "id": "1901ef8d",
   "metadata": {},
   "outputs": [],
   "source": [
    "#make a barblot x-Cabin, y-Survived, depending on the Sex feature"
   ]
  },
  {
   "cell_type": "code",
   "execution_count": null,
   "id": "8acb15bd",
   "metadata": {},
   "outputs": [],
   "source": [
    "#make a barblot x-Fare, y-Survived, depending on the Sex feature"
   ]
  },
  {
   "cell_type": "code",
   "execution_count": null,
   "id": "7cbbe50e",
   "metadata": {},
   "outputs": [],
   "source": []
  },
  {
   "cell_type": "code",
   "execution_count": null,
   "id": "c38649b8",
   "metadata": {},
   "outputs": [],
   "source": []
  }
 ],
 "metadata": {
  "kernelspec": {
   "display_name": "Python 3 (ipykernel)",
   "language": "python",
   "name": "python3"
  },
  "language_info": {
   "codemirror_mode": {
    "name": "ipython",
    "version": 3
   },
   "file_extension": ".py",
   "mimetype": "text/x-python",
   "name": "python",
   "nbconvert_exporter": "python",
   "pygments_lexer": "ipython3",
   "version": "3.9.12"
  }
 },
 "nbformat": 4,
 "nbformat_minor": 5
}
